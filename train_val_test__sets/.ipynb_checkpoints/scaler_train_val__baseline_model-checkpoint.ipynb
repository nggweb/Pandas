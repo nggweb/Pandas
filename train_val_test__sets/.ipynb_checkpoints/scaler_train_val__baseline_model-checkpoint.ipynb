{
 "cells": [
  {
   "cell_type": "code",
   "execution_count": 3,
   "id": "0419713d",
   "metadata": {},
   "outputs": [],
   "source": [
    "import pandas as pd\n",
    "import numpy as np\n",
    "from sklearn.model_selection import train_test_split\n",
    "from sklearn.preprocessing import StandardScaler\n",
    "from sklearn.linear_model import LinearRegression as OLS\n",
    "from sklearn.metrics import mean_squared_error"
   ]
  },
  {
   "cell_type": "code",
   "execution_count": 4,
   "id": "3bf120eb",
   "metadata": {},
   "outputs": [
    {
     "name": "stdout",
     "output_type": "stream",
     "text": [
      "(9568, 5)\n"
     ]
    },
    {
     "data": {
      "text/html": [
       "<div>\n",
       "<style scoped>\n",
       "    .dataframe tbody tr th:only-of-type {\n",
       "        vertical-align: middle;\n",
       "    }\n",
       "\n",
       "    .dataframe tbody tr th {\n",
       "        vertical-align: top;\n",
       "    }\n",
       "\n",
       "    .dataframe thead th {\n",
       "        text-align: right;\n",
       "    }\n",
       "</style>\n",
       "<table border=\"1\" class=\"dataframe\">\n",
       "  <thead>\n",
       "    <tr style=\"text-align: right;\">\n",
       "      <th></th>\n",
       "      <th>AT</th>\n",
       "      <th>V</th>\n",
       "      <th>AP</th>\n",
       "      <th>RH</th>\n",
       "      <th>EP</th>\n",
       "    </tr>\n",
       "  </thead>\n",
       "  <tbody>\n",
       "    <tr>\n",
       "      <th>0</th>\n",
       "      <td>8.34</td>\n",
       "      <td>40.77</td>\n",
       "      <td>1010.84</td>\n",
       "      <td>90.01</td>\n",
       "      <td>480.48</td>\n",
       "    </tr>\n",
       "    <tr>\n",
       "      <th>1</th>\n",
       "      <td>23.64</td>\n",
       "      <td>58.49</td>\n",
       "      <td>1011.40</td>\n",
       "      <td>74.20</td>\n",
       "      <td>445.75</td>\n",
       "    </tr>\n",
       "    <tr>\n",
       "      <th>2</th>\n",
       "      <td>29.74</td>\n",
       "      <td>56.90</td>\n",
       "      <td>1007.15</td>\n",
       "      <td>41.91</td>\n",
       "      <td>438.76</td>\n",
       "    </tr>\n",
       "    <tr>\n",
       "      <th>3</th>\n",
       "      <td>19.07</td>\n",
       "      <td>49.69</td>\n",
       "      <td>1007.22</td>\n",
       "      <td>76.79</td>\n",
       "      <td>453.09</td>\n",
       "    </tr>\n",
       "    <tr>\n",
       "      <th>4</th>\n",
       "      <td>11.80</td>\n",
       "      <td>40.66</td>\n",
       "      <td>1017.13</td>\n",
       "      <td>97.20</td>\n",
       "      <td>464.43</td>\n",
       "    </tr>\n",
       "  </tbody>\n",
       "</table>\n",
       "</div>"
      ],
      "text/plain": [
       "      AT      V       AP     RH      EP\n",
       "0   8.34  40.77  1010.84  90.01  480.48\n",
       "1  23.64  58.49  1011.40  74.20  445.75\n",
       "2  29.74  56.90  1007.15  41.91  438.76\n",
       "3  19.07  49.69  1007.22  76.79  453.09\n",
       "4  11.80  40.66  1017.13  97.20  464.43"
      ]
     },
     "execution_count": 4,
     "metadata": {},
     "output_type": "execute_result"
    }
   ],
   "source": [
    "power_data = pd.read_csv('power_plant.csv')\n",
    "print(power_data.shape)\n",
    "power_data.head()"
   ]
  },
  {
   "cell_type": "code",
   "execution_count": 13,
   "id": "b6977594",
   "metadata": {},
   "outputs": [
    {
     "name": "stdout",
     "output_type": "stream",
     "text": [
      "train is  (7654, 5)  rows, cols\n",
      " val is  (956, 5)  rows, cols\n",
      " test is  (958, 5) rows, cols\n"
     ]
    }
   ],
   "source": [
    "#\n",
    "# split into train / val / test as 0.8 / 0.1 / 0.1\n",
    "#\n",
    "np.random.seed(42)\n",
    "train_rows = pd.Series(np.random.choice(list(power_data.index), int(0.8 * power_data.shape[0]), replace = False))\n",
    "val_rows = pd.Series(np.random.choice(list(power_data.drop(train_rows, axis = 0).index), int(0.1 * power_data.shape[0]), replace = False))\n",
    "test_rows = pd.Series(power_data.drop(pd.concat([train_rows, val_rows]), axis = 0).index)\n",
    "train_data = power_data.iloc[train_rows, :]\n",
    "val_data = power_data.iloc[val_rows, :]\n",
    "test_data = power_data.iloc[test_rows, :]\n",
    "#\n",
    "print('train is ', train_data.shape, ' rows, cols\\n',\n",
    "      'val is ', val_data.shape, ' rows, cols\\n',\n",
    "      'test is ', test_data.shape, 'rows, cols')\n",
    "#\n"
   ]
  },
  {
   "cell_type": "code",
   "execution_count": 15,
   "id": "67e459d8",
   "metadata": {},
   "outputs": [],
   "source": [
    "scaler = StandardScaler()\n",
    "scaler.fit(train_data.iloc[:, :-1])\n",
    "train_X = scaler.transform(train_data.iloc[:, :-1])\n",
    "train_y = train_data['EP']\n",
    "val_X = scaler.transform(val_data.iloc[:, :-1])\n",
    "val_y = val_data['EP']\n",
    "test_X = scaler.transform(test_data.iloc[:, :-1])\n",
    "test_y = test_data['EP']"
   ]
  },
  {
   "cell_type": "code",
   "execution_count": 16,
   "id": "530ea496",
   "metadata": {},
   "outputs": [
    {
     "data": {
      "text/plain": [
       "LinearRegression()"
      ]
     },
     "execution_count": 16,
     "metadata": {},
     "output_type": "execute_result"
    }
   ],
   "source": [
    "linear_model = OLS()\n",
    "linear_model.fit(train_X, train_y)"
   ]
  },
  {
   "cell_type": "code",
   "execution_count": 17,
   "id": "1f0f2ed9",
   "metadata": {},
   "outputs": [
    {
     "name": "stdout",
     "output_type": "stream",
     "text": [
      "train score:  0.9287072840354756 \n",
      "validation score:  0.9238845251967255 \n",
      "test score:  0.9333918854821254\n",
      "train RMSE:  20.732519659228682 \n",
      "validation RMSE:  22.82059184376622 \n",
      "test RMSE:  19.023390952574694\n"
     ]
    }
   ],
   "source": [
    "print('train score: ', linear_model.score(train_X, train_y),\n",
    "    '\\nvalidation score: ', linear_model.score(val_X,val_y),\n",
    "    '\\ntest score: ', linear_model.score(test_X,test_y))\n",
    "print('train RMSE: ',mean_squared_error(linear_model.predict(train_X),train_y),\n",
    "      '\\nvalidation RMSE: ',mean_squared_error(linear_model.predict(val_X),val_y),\n",
    "      '\\ntest RMSE: ',mean_squared_error(linear_model.predict(test_X),test_y))"
   ]
  },
  {
   "cell_type": "code",
   "execution_count": null,
   "id": "c8538dc1",
   "metadata": {},
   "outputs": [],
   "source": []
  }
 ],
 "metadata": {
  "kernelspec": {
   "display_name": "Python 3 (ipykernel)",
   "language": "python",
   "name": "python3"
  },
  "language_info": {
   "codemirror_mode": {
    "name": "ipython",
    "version": 3
   },
   "file_extension": ".py",
   "mimetype": "text/x-python",
   "name": "python",
   "nbconvert_exporter": "python",
   "pygments_lexer": "ipython3",
   "version": "3.8.5"
  }
 },
 "nbformat": 4,
 "nbformat_minor": 5
}
