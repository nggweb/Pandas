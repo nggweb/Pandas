{
 "cells": [
  {
   "cell_type": "code",
   "execution_count": 4,
   "id": "8cfaab68",
   "metadata": {},
   "outputs": [],
   "source": [
    "import pandas as pd"
   ]
  },
  {
   "cell_type": "code",
   "execution_count": 16,
   "id": "5c98f57e",
   "metadata": {},
   "outputs": [
    {
     "data": {
      "text/plain": [
       "City\n",
       "New York                8190209\n",
       "Los Angeles             3795512\n",
       "Chicago                 2697477\n",
       "Houston                 2100280\n",
       "Phoenix                 1449038\n",
       "Philadelphia            1528283\n",
       "San Antonio             1332299\n",
       "San Diego               1305906\n",
       "Dallas                  1200350\n",
       "San Jose                 954940\n",
       "Austin                   806164\n",
       "Jacksonville             823114\n",
       "Fort Worth               748441\n",
       "Columbus                 790943\n",
       "Charlotte                738444\n",
       "San Francisco            805505\n",
       "Indianapolis             821579\n",
       "Seattle                  610630\n",
       "Denver                   603359\n",
       "District of Columbia     605226\n",
       "Name: 2010, dtype: int64"
      ]
     },
     "execution_count": 16,
     "metadata": {},
     "output_type": "execute_result"
    }
   ],
   "source": [
    "#squeeze=True:results in a Series, instead of a DataFrame\n",
    "populations_2010 = pd.read_csv('US_Census_SUB-IP-EST2019-ANNRNK_top_20_2010.csv',index_col = [0],squeeze=True)\n",
    "\n",
    "populations_2010"
   ]
  },
  {
   "cell_type": "code",
   "execution_count": 7,
   "id": "7e6cf098",
   "metadata": {},
   "outputs": [],
   "source": [
    "#total population of the three largest cities in the 2010 Series\\\n",
    "##(New York,Los Angeles, and Chicago)\n",
    "#save the result in a variable"
   ]
  },
  {
   "cell_type": "code",
   "execution_count": 13,
   "id": "3a525fd6",
   "metadata": {},
   "outputs": [],
   "source": [
    "top_3_2010 = sum(populations_2010[['New York', 'Los Angeles', 'Chicago']])"
   ]
  },
  {
   "cell_type": "code",
   "execution_count": 14,
   "id": "7df6dc27",
   "metadata": {},
   "outputs": [
    {
     "data": {
      "text/plain": [
       "14683198"
      ]
     },
     "execution_count": 14,
     "metadata": {},
     "output_type": "execute_result"
    }
   ],
   "source": [
    "top_3_2010"
   ]
  },
  {
   "cell_type": "code",
   "execution_count": 11,
   "id": "f461542a",
   "metadata": {},
   "outputs": [],
   "source": [
    "#2019 from the US_Census_SUB-IP-EST2019-ANNRNK_top_20_2019.csv file\n",
    "##first column as the index and reading the data into a Series"
   ]
  },
  {
   "cell_type": "code",
   "execution_count": 18,
   "id": "f87a0872",
   "metadata": {},
   "outputs": [
    {
     "data": {
      "text/plain": [
       "City\n",
       "New York                8336817\n",
       "Los Angeles             3979576\n",
       "Chicago                 2693976\n",
       "Houston                 2320268\n",
       "Phoenix                 1680992\n",
       "Philadelphia            1584064\n",
       "San Antonio             1547253\n",
       "San Diego               1423851\n",
       "Dallas                  1343573\n",
       "San Jose                1021795\n",
       "Austin                   978908\n",
       "Jacksonville             911507\n",
       "Fort Worth               909585\n",
       "Columbus                 898553\n",
       "Charlotte                885708\n",
       "San Francisco            881549\n",
       "Indianapolis             876384\n",
       "Seattle                  753675\n",
       "Denver                   727211\n",
       "District of Columbia     705749\n",
       "Name: 2019, dtype: int64"
      ]
     },
     "execution_count": 18,
     "metadata": {},
     "output_type": "execute_result"
    }
   ],
   "source": [
    "populations_2019 = pd.read_csv('US_Census_SUB-IP-EST2019-ANNRNK_top_20_2019.csv',index_col = [0],squeeze = True)\n",
    "populations_2019"
   ]
  },
  {
   "cell_type": "code",
   "execution_count": 20,
   "id": "90020981",
   "metadata": {},
   "outputs": [],
   "source": [
    "#Calculate the total population for the same three cities in the 2019 Series\n",
    "#save the result in a variable\n",
    "top_3_2019 = sum(populations_2019[['New York', 'Los Angeles', 'Chicago']])"
   ]
  },
  {
   "cell_type": "code",
   "execution_count": 21,
   "id": "41a4cf83",
   "metadata": {},
   "outputs": [
    {
     "name": "stdout",
     "output_type": "stream",
     "text": [
      "top 3 changed 2.2 %\n",
      " vs. all changed 8.0 %\n"
     ]
    }
   ],
   "source": [
    "#calculate the percent change from 2010to 2019 for the three cities\n",
    "top_3_change = 100 * (top_3_2019 - top_3_2010) / top_3_2010\n",
    "\n",
    "#calculate the percent change for all cities. \n",
    "all_change = 100 * sum(populations_2019 - populations_2010) / sum(populations_2010)\n",
    "\n",
    "#Print out a comparison of the changes for the three cities versus all cities\n",
    "print('top 3 changed', str(round(top_3_change, 1)),'%\\n',\n",
    "     'vs. all changed', str(round(all_change, 1)), '%')"
   ]
  },
  {
   "cell_type": "code",
   "execution_count": null,
   "id": "9a1469c2",
   "metadata": {},
   "outputs": [],
   "source": []
  }
 ],
 "metadata": {
  "kernelspec": {
   "display_name": "Python 3 (ipykernel)",
   "language": "python",
   "name": "python3"
  },
  "language_info": {
   "codemirror_mode": {
    "name": "ipython",
    "version": 3
   },
   "file_extension": ".py",
   "mimetype": "text/x-python",
   "name": "python",
   "nbconvert_exporter": "python",
   "pygments_lexer": "ipython3",
   "version": "3.8.5"
  }
 },
 "nbformat": 4,
 "nbformat_minor": 5
}
