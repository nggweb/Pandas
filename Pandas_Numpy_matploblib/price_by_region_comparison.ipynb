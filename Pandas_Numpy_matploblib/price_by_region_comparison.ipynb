{
 "cells": [
  {
   "cell_type": "code",
   "execution_count": 1,
   "id": "4d01eea2",
   "metadata": {},
   "outputs": [],
   "source": [
    "import pandas as pd\n",
    "import numpy as np\n",
    "import matplotlib.pyplot as plt"
   ]
  },
  {
   "cell_type": "code",
   "execution_count": 3,
   "id": "2c3521cb",
   "metadata": {},
   "outputs": [],
   "source": [
    "file_name = 'PUF2020final_v1coll.csv'\n",
    "data_frame = pd.read_csv(file_name)"
   ]
  },
  {
   "cell_type": "code",
   "execution_count": 4,
   "id": "716891ec",
   "metadata": {},
   "outputs": [
    {
     "data": {
      "text/html": [
       "<div>\n",
       "<style scoped>\n",
       "    .dataframe tbody tr th:only-of-type {\n",
       "        vertical-align: middle;\n",
       "    }\n",
       "\n",
       "    .dataframe tbody tr th {\n",
       "        vertical-align: top;\n",
       "    }\n",
       "\n",
       "    .dataframe thead th {\n",
       "        text-align: right;\n",
       "    }\n",
       "</style>\n",
       "<table border=\"1\" class=\"dataframe\">\n",
       "  <thead>\n",
       "    <tr style=\"text-align: right;\">\n",
       "      <th></th>\n",
       "      <th>CONTROL</th>\n",
       "      <th>SHIPMONTH</th>\n",
       "      <th>WEIGHT</th>\n",
       "      <th>WGTADJ</th>\n",
       "      <th>REGION</th>\n",
       "      <th>SECTIONS</th>\n",
       "      <th>STATUS</th>\n",
       "      <th>PRICE</th>\n",
       "      <th>SQFT</th>\n",
       "      <th>BEDROOMS</th>\n",
       "      <th>...</th>\n",
       "      <th>FOUNDATION</th>\n",
       "      <th>SECURED</th>\n",
       "      <th>jstatus</th>\n",
       "      <th>jprice</th>\n",
       "      <th>jsqft</th>\n",
       "      <th>jbedroom</th>\n",
       "      <th>jtitle</th>\n",
       "      <th>jlocation</th>\n",
       "      <th>jfoundation</th>\n",
       "      <th>jsecured</th>\n",
       "    </tr>\n",
       "  </thead>\n",
       "  <tbody>\n",
       "    <tr>\n",
       "      <th>0</th>\n",
       "      <td>20010001</td>\n",
       "      <td>202001</td>\n",
       "      <td>63.3786</td>\n",
       "      <td>1.1678</td>\n",
       "      <td>3</td>\n",
       "      <td>1</td>\n",
       "      <td>2</td>\n",
       "      <td>52000</td>\n",
       "      <td>960</td>\n",
       "      <td>1</td>\n",
       "      <td>...</td>\n",
       "      <td>3</td>\n",
       "      <td>9</td>\n",
       "      <td>I</td>\n",
       "      <td>I</td>\n",
       "      <td>I</td>\n",
       "      <td>I</td>\n",
       "      <td>I</td>\n",
       "      <td>I</td>\n",
       "      <td>I</td>\n",
       "      <td>I</td>\n",
       "    </tr>\n",
       "    <tr>\n",
       "      <th>1</th>\n",
       "      <td>20010002</td>\n",
       "      <td>202001</td>\n",
       "      <td>63.3786</td>\n",
       "      <td>1.1678</td>\n",
       "      <td>3</td>\n",
       "      <td>1</td>\n",
       "      <td>2</td>\n",
       "      <td>39900</td>\n",
       "      <td>1300</td>\n",
       "      <td>3</td>\n",
       "      <td>...</td>\n",
       "      <td>3</td>\n",
       "      <td>9</td>\n",
       "      <td>R</td>\n",
       "      <td>R</td>\n",
       "      <td>R</td>\n",
       "      <td>R</td>\n",
       "      <td>R</td>\n",
       "      <td>R</td>\n",
       "      <td>R</td>\n",
       "      <td>R</td>\n",
       "    </tr>\n",
       "    <tr>\n",
       "      <th>2</th>\n",
       "      <td>20010003</td>\n",
       "      <td>202001</td>\n",
       "      <td>19.2842</td>\n",
       "      <td>1.1678</td>\n",
       "      <td>4</td>\n",
       "      <td>1</td>\n",
       "      <td>2</td>\n",
       "      <td>60000</td>\n",
       "      <td>1200</td>\n",
       "      <td>3</td>\n",
       "      <td>...</td>\n",
       "      <td>3</td>\n",
       "      <td>1</td>\n",
       "      <td>I</td>\n",
       "      <td>I</td>\n",
       "      <td>I</td>\n",
       "      <td>I</td>\n",
       "      <td>I</td>\n",
       "      <td>I</td>\n",
       "      <td>I</td>\n",
       "      <td>I</td>\n",
       "    </tr>\n",
       "    <tr>\n",
       "      <th>3</th>\n",
       "      <td>20010004</td>\n",
       "      <td>202001</td>\n",
       "      <td>19.2842</td>\n",
       "      <td>1.1678</td>\n",
       "      <td>4</td>\n",
       "      <td>1</td>\n",
       "      <td>2</td>\n",
       "      <td>9</td>\n",
       "      <td>730</td>\n",
       "      <td>1</td>\n",
       "      <td>...</td>\n",
       "      <td>2</td>\n",
       "      <td>1</td>\n",
       "      <td>R</td>\n",
       "      <td>9</td>\n",
       "      <td>R</td>\n",
       "      <td>R</td>\n",
       "      <td>I</td>\n",
       "      <td>R</td>\n",
       "      <td>I</td>\n",
       "      <td>I</td>\n",
       "    </tr>\n",
       "    <tr>\n",
       "      <th>4</th>\n",
       "      <td>20010005</td>\n",
       "      <td>202001</td>\n",
       "      <td>19.2842</td>\n",
       "      <td>1.1678</td>\n",
       "      <td>4</td>\n",
       "      <td>1</td>\n",
       "      <td>2</td>\n",
       "      <td>87000</td>\n",
       "      <td>500</td>\n",
       "      <td>1</td>\n",
       "      <td>...</td>\n",
       "      <td>3</td>\n",
       "      <td>1</td>\n",
       "      <td>R</td>\n",
       "      <td>R</td>\n",
       "      <td>R</td>\n",
       "      <td>R</td>\n",
       "      <td>R</td>\n",
       "      <td>R</td>\n",
       "      <td>R</td>\n",
       "      <td>R</td>\n",
       "    </tr>\n",
       "    <tr>\n",
       "      <th>5</th>\n",
       "      <td>20010006</td>\n",
       "      <td>202001</td>\n",
       "      <td>19.2842</td>\n",
       "      <td>1.1678</td>\n",
       "      <td>4</td>\n",
       "      <td>1</td>\n",
       "      <td>2</td>\n",
       "      <td>56000</td>\n",
       "      <td>1100</td>\n",
       "      <td>3</td>\n",
       "      <td>...</td>\n",
       "      <td>2</td>\n",
       "      <td>1</td>\n",
       "      <td>I</td>\n",
       "      <td>I</td>\n",
       "      <td>I</td>\n",
       "      <td>I</td>\n",
       "      <td>I</td>\n",
       "      <td>I</td>\n",
       "      <td>I</td>\n",
       "      <td>I</td>\n",
       "    </tr>\n",
       "    <tr>\n",
       "      <th>6</th>\n",
       "      <td>20010007</td>\n",
       "      <td>202001</td>\n",
       "      <td>11.2000</td>\n",
       "      <td>1.1678</td>\n",
       "      <td>1</td>\n",
       "      <td>1</td>\n",
       "      <td>2</td>\n",
       "      <td>9</td>\n",
       "      <td>1000</td>\n",
       "      <td>1</td>\n",
       "      <td>...</td>\n",
       "      <td>3</td>\n",
       "      <td>1</td>\n",
       "      <td>R</td>\n",
       "      <td>9</td>\n",
       "      <td>I</td>\n",
       "      <td>I</td>\n",
       "      <td>I</td>\n",
       "      <td>R</td>\n",
       "      <td>I</td>\n",
       "      <td>I</td>\n",
       "    </tr>\n",
       "    <tr>\n",
       "      <th>7</th>\n",
       "      <td>20010008</td>\n",
       "      <td>202001</td>\n",
       "      <td>63.3786</td>\n",
       "      <td>1.1678</td>\n",
       "      <td>3</td>\n",
       "      <td>1</td>\n",
       "      <td>2</td>\n",
       "      <td>42600</td>\n",
       "      <td>700</td>\n",
       "      <td>1</td>\n",
       "      <td>...</td>\n",
       "      <td>3</td>\n",
       "      <td>9</td>\n",
       "      <td>R</td>\n",
       "      <td>R</td>\n",
       "      <td>R</td>\n",
       "      <td>R</td>\n",
       "      <td>R</td>\n",
       "      <td>I</td>\n",
       "      <td>R</td>\n",
       "      <td>R</td>\n",
       "    </tr>\n",
       "    <tr>\n",
       "      <th>8</th>\n",
       "      <td>20010009</td>\n",
       "      <td>202001</td>\n",
       "      <td>63.3786</td>\n",
       "      <td>1.1678</td>\n",
       "      <td>3</td>\n",
       "      <td>1</td>\n",
       "      <td>2</td>\n",
       "      <td>46300</td>\n",
       "      <td>700</td>\n",
       "      <td>1</td>\n",
       "      <td>...</td>\n",
       "      <td>3</td>\n",
       "      <td>9</td>\n",
       "      <td>I</td>\n",
       "      <td>I</td>\n",
       "      <td>I</td>\n",
       "      <td>I</td>\n",
       "      <td>I</td>\n",
       "      <td>I</td>\n",
       "      <td>I</td>\n",
       "      <td>I</td>\n",
       "    </tr>\n",
       "    <tr>\n",
       "      <th>9</th>\n",
       "      <td>20010010</td>\n",
       "      <td>202001</td>\n",
       "      <td>63.3786</td>\n",
       "      <td>1.1678</td>\n",
       "      <td>3</td>\n",
       "      <td>1</td>\n",
       "      <td>2</td>\n",
       "      <td>61000</td>\n",
       "      <td>1200</td>\n",
       "      <td>3</td>\n",
       "      <td>...</td>\n",
       "      <td>3</td>\n",
       "      <td>9</td>\n",
       "      <td>I</td>\n",
       "      <td>I</td>\n",
       "      <td>I</td>\n",
       "      <td>I</td>\n",
       "      <td>I</td>\n",
       "      <td>I</td>\n",
       "      <td>I</td>\n",
       "      <td>I</td>\n",
       "    </tr>\n",
       "  </tbody>\n",
       "</table>\n",
       "<p>10 rows × 22 columns</p>\n",
       "</div>"
      ],
      "text/plain": [
       "    CONTROL  SHIPMONTH   WEIGHT  WGTADJ  REGION  SECTIONS  STATUS  PRICE  \\\n",
       "0  20010001     202001  63.3786  1.1678       3         1       2  52000   \n",
       "1  20010002     202001  63.3786  1.1678       3         1       2  39900   \n",
       "2  20010003     202001  19.2842  1.1678       4         1       2  60000   \n",
       "3  20010004     202001  19.2842  1.1678       4         1       2      9   \n",
       "4  20010005     202001  19.2842  1.1678       4         1       2  87000   \n",
       "5  20010006     202001  19.2842  1.1678       4         1       2  56000   \n",
       "6  20010007     202001  11.2000  1.1678       1         1       2      9   \n",
       "7  20010008     202001  63.3786  1.1678       3         1       2  42600   \n",
       "8  20010009     202001  63.3786  1.1678       3         1       2  46300   \n",
       "9  20010010     202001  63.3786  1.1678       3         1       2  61000   \n",
       "\n",
       "   SQFT  BEDROOMS  ...  FOUNDATION  SECURED  jstatus  jprice jsqft jbedroom  \\\n",
       "0   960         1  ...           3        9        I       I     I        I   \n",
       "1  1300         3  ...           3        9        R       R     R        R   \n",
       "2  1200         3  ...           3        1        I       I     I        I   \n",
       "3   730         1  ...           2        1        R       9     R        R   \n",
       "4   500         1  ...           3        1        R       R     R        R   \n",
       "5  1100         3  ...           2        1        I       I     I        I   \n",
       "6  1000         1  ...           3        1        R       9     I        I   \n",
       "7   700         1  ...           3        9        R       R     R        R   \n",
       "8   700         1  ...           3        9        I       I     I        I   \n",
       "9  1200         3  ...           3        9        I       I     I        I   \n",
       "\n",
       "  jtitle jlocation jfoundation jsecured  \n",
       "0      I         I           I        I  \n",
       "1      R         R           R        R  \n",
       "2      I         I           I        I  \n",
       "3      I         R           I        I  \n",
       "4      R         R           R        R  \n",
       "5      I         I           I        I  \n",
       "6      I         R           I        I  \n",
       "7      R         I           R        R  \n",
       "8      I         I           I        I  \n",
       "9      I         I           I        I  \n",
       "\n",
       "[10 rows x 22 columns]"
      ]
     },
     "execution_count": 4,
     "metadata": {},
     "output_type": "execute_result"
    }
   ],
   "source": [
    "data_frame.head(10)"
   ]
  },
  {
   "cell_type": "code",
   "execution_count": 5,
   "id": "5c060eb0",
   "metadata": {},
   "outputs": [],
   "source": [
    "data_frame = data_frame[[\"REGION\", \"SQFT\", \"BEDROOMS\", \"PRICE\"]]"
   ]
  },
  {
   "cell_type": "code",
   "execution_count": 6,
   "id": "99e0e283",
   "metadata": {},
   "outputs": [
    {
     "data": {
      "text/html": [
       "<div>\n",
       "<style scoped>\n",
       "    .dataframe tbody tr th:only-of-type {\n",
       "        vertical-align: middle;\n",
       "    }\n",
       "\n",
       "    .dataframe tbody tr th {\n",
       "        vertical-align: top;\n",
       "    }\n",
       "\n",
       "    .dataframe thead th {\n",
       "        text-align: right;\n",
       "    }\n",
       "</style>\n",
       "<table border=\"1\" class=\"dataframe\">\n",
       "  <thead>\n",
       "    <tr style=\"text-align: right;\">\n",
       "      <th></th>\n",
       "      <th>REGION</th>\n",
       "      <th>SQFT</th>\n",
       "      <th>BEDROOMS</th>\n",
       "      <th>PRICE</th>\n",
       "    </tr>\n",
       "  </thead>\n",
       "  <tbody>\n",
       "    <tr>\n",
       "      <th>0</th>\n",
       "      <td>3</td>\n",
       "      <td>960</td>\n",
       "      <td>1</td>\n",
       "      <td>52000</td>\n",
       "    </tr>\n",
       "    <tr>\n",
       "      <th>1</th>\n",
       "      <td>3</td>\n",
       "      <td>1300</td>\n",
       "      <td>3</td>\n",
       "      <td>39900</td>\n",
       "    </tr>\n",
       "    <tr>\n",
       "      <th>2</th>\n",
       "      <td>4</td>\n",
       "      <td>1200</td>\n",
       "      <td>3</td>\n",
       "      <td>60000</td>\n",
       "    </tr>\n",
       "    <tr>\n",
       "      <th>3</th>\n",
       "      <td>4</td>\n",
       "      <td>730</td>\n",
       "      <td>1</td>\n",
       "      <td>9</td>\n",
       "    </tr>\n",
       "    <tr>\n",
       "      <th>4</th>\n",
       "      <td>4</td>\n",
       "      <td>500</td>\n",
       "      <td>1</td>\n",
       "      <td>87000</td>\n",
       "    </tr>\n",
       "    <tr>\n",
       "      <th>5</th>\n",
       "      <td>4</td>\n",
       "      <td>1100</td>\n",
       "      <td>3</td>\n",
       "      <td>56000</td>\n",
       "    </tr>\n",
       "    <tr>\n",
       "      <th>6</th>\n",
       "      <td>1</td>\n",
       "      <td>1000</td>\n",
       "      <td>1</td>\n",
       "      <td>9</td>\n",
       "    </tr>\n",
       "    <tr>\n",
       "      <th>7</th>\n",
       "      <td>3</td>\n",
       "      <td>700</td>\n",
       "      <td>1</td>\n",
       "      <td>42600</td>\n",
       "    </tr>\n",
       "    <tr>\n",
       "      <th>8</th>\n",
       "      <td>3</td>\n",
       "      <td>700</td>\n",
       "      <td>1</td>\n",
       "      <td>46300</td>\n",
       "    </tr>\n",
       "    <tr>\n",
       "      <th>9</th>\n",
       "      <td>3</td>\n",
       "      <td>1200</td>\n",
       "      <td>3</td>\n",
       "      <td>61000</td>\n",
       "    </tr>\n",
       "  </tbody>\n",
       "</table>\n",
       "</div>"
      ],
      "text/plain": [
       "   REGION  SQFT  BEDROOMS  PRICE\n",
       "0       3   960         1  52000\n",
       "1       3  1300         3  39900\n",
       "2       4  1200         3  60000\n",
       "3       4   730         1      9\n",
       "4       4   500         1  87000\n",
       "5       4  1100         3  56000\n",
       "6       1  1000         1      9\n",
       "7       3   700         1  42600\n",
       "8       3   700         1  46300\n",
       "9       3  1200         3  61000"
      ]
     },
     "execution_count": 6,
     "metadata": {},
     "output_type": "execute_result"
    }
   ],
   "source": [
    "data_frame.head(10)"
   ]
  },
  {
   "cell_type": "code",
   "execution_count": 7,
   "id": "2080eec2",
   "metadata": {},
   "outputs": [
    {
     "data": {
      "image/png": "[encoded data removed]",
      "text/plain": [
       "<Figure size 432x288 with 1 Axes>"
      ]
     },
     "metadata": {
      "needs_background": "light"
     },
     "output_type": "display_data"
    }
   ],
   "source": [
    "data_frame.PRICE.plot(kind= 'hist');"
   ]
  },
  {
   "cell_type": "code",
   "execution_count": 8,
   "id": "3e330c9d",
   "metadata": {},
   "outputs": [
    {
     "data": {
      "image/png": "[encoded data removed]",
      "text/plain": [
       "<Figure size 432x288 with 1 Axes>"
      ]
     },
     "metadata": {
      "needs_background": "light"
     },
     "output_type": "display_data"
    }
   ],
   "source": [
    "data_frame.SQFT.plot(kind= 'hist');"
   ]
  },
  {
   "cell_type": "code",
   "execution_count": 10,
   "id": "2710c209",
   "metadata": {},
   "outputs": [
    {
     "data": {
      "image/png": "[encoded data removed]",
      "text/plain": [
       "<Figure size 432x288 with 1 Axes>"
      ]
     },
     "metadata": {
      "needs_background": "light"
     },
     "output_type": "display_data"
    }
   ],
   "source": [
    "data_frame.plot(kind='scatter', y = 'PRICE', x = 'SQFT');"
   ]
  },
  {
   "cell_type": "code",
   "execution_count": 11,
   "id": "1c0b18c1",
   "metadata": {},
   "outputs": [
    {
     "data": {
      "image/png": "[encoded data removed]",
      "text/plain": [
       "<Figure size 432x288 with 1 Axes>"
      ]
     },
     "metadata": {
      "needs_background": "light"
     },
     "output_type": "display_data"
    }
   ],
   "source": [
    "data_frame.boxplot(by='BEDROOMS', column='PRICE');"
   ]
  },
  {
   "cell_type": "code",
   "execution_count": 12,
   "id": "d26755f8",
   "metadata": {},
   "outputs": [
    {
     "data": {
      "image/png": "[encoded data removed]",
      "text/plain": [
       "<Figure size 432x288 with 1 Axes>"
      ]
     },
     "metadata": {
      "needs_background": "light"
     },
     "output_type": "display_data"
    }
   ],
   "source": [
    "data_frame.plot(kind='scatter', x = 'BEDROOMS',  y = 'PRICE');"
   ]
  },
  {
   "cell_type": "code",
   "execution_count": 13,
   "id": "01607c68",
   "metadata": {},
   "outputs": [
    {
     "data": {
      "image/png": "[encoded data removed]",
      "text/plain": [
       "<Figure size 432x288 with 1 Axes>"
      ]
     },
     "metadata": {
      "needs_background": "light"
     },
     "output_type": "display_data"
    }
   ],
   "source": [
    "data_frame.boxplot(by='REGION', column='PRICE');"
   ]
  },
  {
   "cell_type": "code",
   "execution_count": 16,
   "id": "bdc15210",
   "metadata": {},
   "outputs": [
    {
     "data": {
      "image/png": "[encoded data removed]",
      "text/plain": [
       "<Figure size 432x288 with 1 Axes>"
      ]
     },
     "metadata": {
      "needs_background": "light"
     },
     "output_type": "display_data"
    }
   ],
   "source": [
    "pd.pivot_table(data_frame,index=['REGION']).PRICE.plot(kind='barh');"
   ]
  },
  {
   "cell_type": "code",
   "execution_count": 17,
   "id": "9c7729da",
   "metadata": {},
   "outputs": [
    {
     "data": {
      "image/png": "[encoded data removed]",
      "text/plain": [
       "<Figure size 432x288 with 1 Axes>"
      ]
     },
     "metadata": {
      "needs_background": "light"
     },
     "output_type": "display_data"
    }
   ],
   "source": [
    "pd.pivot_table(data_frame,index=['REGION']).PRICE.plot();"
   ]
  },
  {
   "cell_type": "code",
   "execution_count": null,
   "id": "7c3e8850",
   "metadata": {},
   "outputs": [],
   "source": [
    "#region 4 boasts the highest average price among all regions"
   ]
  }
 ],
 "metadata": {
  "kernelspec": {
   "display_name": "Python 3 (ipykernel)",
   "language": "python",
   "name": "python3"
  },
  "language_info": {
   "codemirror_mode": {
    "name": "ipython",
    "version": 3
   },
   "file_extension": ".py",
   "mimetype": "text/x-python",
   "name": "python",
   "nbconvert_exporter": "python",
   "pygments_lexer": "ipython3",
   "version": "3.8.5"
  }
 },
 "nbformat": 4,
 "nbformat_minor": 5
}
