{
 "cells": [
  {
   "cell_type": "code",
   "execution_count": null,
   "metadata": {},
   "outputs": [],
   "source": [
    "import urllib3\n",
    "from bs4 import BeautifulSoup\n",
    "\n",
    "\n",
    "def get_upcoming_events(url):\n",
    "    req = urllib3.PoolManager()\n",
    "    res = req.request('GET', url)\n",
    "\n",
    "    soup = BeautifulSoup(res.data, 'html.parser')\n",
    "\n",
    "    events = soup.find('ul', {'class': 'list-recent-events'}).findAll('li')\n",
    "\n",
    "    for event in events:\n",
    "        event_details = dict()\n",
    "        event_details['name'] = event.find('h3').find(\"a\").text\n",
    "        event_details['location'] = event.find(\n",
    "            'span', {'class': 'event-location'}).text\n",
    "        event_details['time'] = event.find('time').text\n",
    "\n",
    "        print(event_details)\n",
    "\n",
    "\n",
    "get_upcoming_events('https://www.python.org/events/python-events/')\n"
   ]
  }
 ],
 "metadata": {
  "kernelspec": {
   "display_name": "Python 3",
   "language": "python",
   "name": "python3"
  },
  "language_info": {
   "name": "python",
   "version": "3.10.6"
  }
 },
 "nbformat": 4,
 "nbformat_minor": 5
}
