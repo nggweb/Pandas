{
 "cells": [
  {
   "cell_type": "code",
   "execution_count": 5,
   "id": "cea6c7b0",
   "metadata": {},
   "outputs": [],
   "source": [
    "pip install boto3\n",
    "import boto3\n",
    "import sys\n",
    "import os\n",
    "import pandas as pd\n",
    "import io\n"
   ]
  },
  {
   "cell_type": "code",
   "execution_count": 4,
   "id": "e5911a36",
   "metadata": {},
   "outputs": [
    {
     "name": "stdout",
     "output_type": "stream",
     "text": [
      "Requirement already satisfied: boto3 in /home/ngg/anaconda3/lib/python3.8/site-packages (1.26.155)\n",
      "Requirement already satisfied: botocore<1.30.0,>=1.29.155 in /home/ngg/anaconda3/lib/python3.8/site-packages (from boto3) (1.29.155)\n",
      "Requirement already satisfied: s3transfer<0.7.0,>=0.6.0 in /home/ngg/anaconda3/lib/python3.8/site-packages (from boto3) (0.6.1)\n",
      "Requirement already satisfied: jmespath<2.0.0,>=0.7.1 in /home/ngg/anaconda3/lib/python3.8/site-packages (from boto3) (1.0.1)\n",
      "Requirement already satisfied: urllib3<1.27,>=1.25.4 in /home/ngg/anaconda3/lib/python3.8/site-packages (from botocore<1.30.0,>=1.29.155->boto3) (1.26.4)\n",
      "Requirement already satisfied: python-dateutil<3.0.0,>=2.1 in /home/ngg/anaconda3/lib/python3.8/site-packages (from botocore<1.30.0,>=1.29.155->boto3) (2.8.1)\n",
      "Requirement already satisfied: six>=1.5 in /home/ngg/anaconda3/lib/python3.8/site-packages (from python-dateutil<3.0.0,>=2.1->botocore<1.30.0,>=1.29.155->boto3) (1.15.0)\n",
      "\n",
      "\u001b[1m[\u001b[0m\u001b[34;49mnotice\u001b[0m\u001b[1;39;49m]\u001b[0m\u001b[39;49m A new release of pip available: \u001b[0m\u001b[31;49m22.2.2\u001b[0m\u001b[39;49m -> \u001b[0m\u001b[32;49m23.1.2\u001b[0m\n",
      "\u001b[1m[\u001b[0m\u001b[34;49mnotice\u001b[0m\u001b[1;39;49m]\u001b[0m\u001b[39;49m To update, run: \u001b[0m\u001b[32;49mpython -m pip install --upgrade pip\u001b[0m\n",
      "Note: you may need to restart the kernel to use updated packages.\n"
     ]
    }
   ],
   "source": []
  },
  {
   "cell_type": "code",
   "execution_count": 6,
   "id": "bf651b8a",
   "metadata": {},
   "outputs": [],
   "source": [
    "df = pd.read_csv('http://localhost:8888/data.csv')"
   ]
  },
  {
   "cell_type": "code",
   "execution_count": 9,
   "id": "5bf919dd",
   "metadata": {},
   "outputs": [
    {
     "ename": "NameError",
     "evalue": "name 'df' is not defined",
     "output_type": "error",
     "traceback": [
      "\u001b[0;31m---------------------------------------------------------------------------\u001b[0m",
      "\u001b[0;31mNameError\u001b[0m                                 Traceback (most recent call last)",
      "\u001b[0;32m<ipython-input-9-6bf66e71d3df>\u001b[0m in \u001b[0;36m<module>\u001b[0;34m\u001b[0m\n\u001b[0;32m----> 1\u001b[0;31m \u001b[0mprint\u001b[0m\u001b[0;34m(\u001b[0m\u001b[0mdf\u001b[0m\u001b[0;34m.\u001b[0m\u001b[0mhead\u001b[0m\u001b[0;34m(\u001b[0m\u001b[0;36m10\u001b[0m\u001b[0;34m)\u001b[0m\u001b[0;34m)\u001b[0m\u001b[0;34m\u001b[0m\u001b[0;34m\u001b[0m\u001b[0m\n\u001b[0m",
      "\u001b[0;31mNameError\u001b[0m: name 'df' is not defined"
     ]
    }
   ],
   "source": [
    "print(df.head(10))"
   ]
  },
  {
   "cell_type": "code",
   "execution_count": null,
   "id": "6a029468",
   "metadata": {},
   "outputs": [],
   "source": []
  }
 ],
 "metadata": {
  "kernelspec": {
   "display_name": "Python 3 (ipykernel)",
   "language": "python",
   "name": "python3"
  },
  "language_info": {
   "codemirror_mode": {
    "name": "ipython",
    "version": 3
   },
   "file_extension": ".py",
   "mimetype": "text/x-python",
   "name": "python",
   "nbconvert_exporter": "python",
   "pygments_lexer": "ipython3",
   "version": "3.8.5"
  }
 },
 "nbformat": 4,
 "nbformat_minor": 5
}
